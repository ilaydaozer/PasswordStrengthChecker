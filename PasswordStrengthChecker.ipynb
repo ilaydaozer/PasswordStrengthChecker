{
  "cells": [
    {
      "cell_type": "markdown",
      "metadata": {
        "id": "view-in-github",
        "colab_type": "text"
      },
      "source": [
        "<a href=\"https://colab.research.google.com/github/ilaydaozer/PasswordStrengthChecker/blob/main/PasswordStrengthChecker.ipynb\" target=\"_parent\"><img src=\"https://colab.research.google.com/assets/colab-badge.svg\" alt=\"Open In Colab\"/></a>"
      ]
    },
    {
      "cell_type": "markdown",
      "source": [
        "RandomForestClassifier algoritmasını kullanarak 'password' ve 'strength' sütunlarını içeren bir veri setinde kullanıcının girdiği şifreyi 'weak', 'medium' veya 'strong' olarak etiketleyen bir projedir."
      ],
      "metadata": {
        "id": "39wBgDbnHBUq"
      }
    },
    {
      "cell_type": "markdown",
      "source": [
        "Veri seti : https://www.kaggle.com/datasets/bhavikbb/password-strength-classifier-dataset"
      ],
      "metadata": {
        "id": "nRVMTlKZzBlH"
      }
    },
    {
      "cell_type": "code",
      "execution_count": null,
      "metadata": {
        "id": "-mEyOVdiKz1V"
      },
      "outputs": [],
      "source": [
        "import pandas as pd\n",
        "import numpy as np"
      ]
    },
    {
      "cell_type": "markdown",
      "metadata": {
        "id": "KS9vHADCLeun"
      },
      "source": [
        "error_bad_lines bir DataFrame oluşturulurken kullanılan bir parametredir ve varsayılan olarak True olarak ayarlanır. Eğer bu parametre True olarak ayarlanırsa, pd.read_csv() işlevi, dosyanın okunmasında hatalarla karşılaştığında bir hata üretir ve DataFrame'i oluşturmayı durdurur. Ancak, error_bad_lines=False olarak ayarlanırsa, bu hatalı satırları atlar ve işleme devam eder. Bu, dosyada hatalı satırlar varsa, bunları görmezden gelmek ve geri kalan verileri okumaya devam etmek için kullanışlı bir parametredir. Bu, özellikle büyük veri dosyalarını işlerken yararlı olabilir, çünkü herhangi bir hatalı satırın tüm dosyanın okunmasını engellemesini önler."
      ]
    },
    {
      "cell_type": "code",
      "execution_count": null,
      "metadata": {
        "colab": {
          "base_uri": "https://localhost:8080/"
        },
        "id": "e6QPOLvHLCQm",
        "outputId": "d8d9bb0d-3e0e-4060-cfbc-9133d8e66e26"
      },
      "outputs": [
        {
          "output_type": "stream",
          "name": "stderr",
          "text": [
            "<ipython-input-3-020df2085ff2>:1: FutureWarning: The error_bad_lines argument has been deprecated and will be removed in a future version. Use on_bad_lines in the future.\n",
            "\n",
            "\n",
            "  data = pd.read_csv(\"data.csv\", error_bad_lines=False)\n",
            "Skipping line 2810: expected 2 fields, saw 5\n",
            "Skipping line 4641: expected 2 fields, saw 5\n",
            "Skipping line 7171: expected 2 fields, saw 5\n",
            "Skipping line 11220: expected 2 fields, saw 5\n",
            "Skipping line 13809: expected 2 fields, saw 5\n",
            "Skipping line 14132: expected 2 fields, saw 5\n",
            "Skipping line 14293: expected 2 fields, saw 5\n",
            "Skipping line 14865: expected 2 fields, saw 5\n",
            "Skipping line 17419: expected 2 fields, saw 5\n",
            "Skipping line 22801: expected 2 fields, saw 5\n",
            "Skipping line 25001: expected 2 fields, saw 5\n",
            "Skipping line 26603: expected 2 fields, saw 5\n",
            "Skipping line 26742: expected 2 fields, saw 5\n",
            "Skipping line 29702: expected 2 fields, saw 5\n",
            "Skipping line 32767: expected 2 fields, saw 5\n",
            "Skipping line 32878: expected 2 fields, saw 5\n",
            "Skipping line 35643: expected 2 fields, saw 5\n",
            "Skipping line 36550: expected 2 fields, saw 5\n",
            "Skipping line 38732: expected 2 fields, saw 5\n",
            "Skipping line 40567: expected 2 fields, saw 5\n",
            "Skipping line 40576: expected 2 fields, saw 5\n",
            "Skipping line 41864: expected 2 fields, saw 5\n",
            "Skipping line 46861: expected 2 fields, saw 5\n",
            "Skipping line 47939: expected 2 fields, saw 5\n",
            "Skipping line 48628: expected 2 fields, saw 5\n",
            "Skipping line 48908: expected 2 fields, saw 5\n",
            "Skipping line 57582: expected 2 fields, saw 5\n",
            "Skipping line 58782: expected 2 fields, saw 5\n",
            "Skipping line 58984: expected 2 fields, saw 5\n",
            "Skipping line 61518: expected 2 fields, saw 5\n",
            "Skipping line 63451: expected 2 fields, saw 5\n",
            "Skipping line 68141: expected 2 fields, saw 5\n",
            "Skipping line 72083: expected 2 fields, saw 5\n",
            "Skipping line 74027: expected 2 fields, saw 5\n",
            "Skipping line 77811: expected 2 fields, saw 5\n",
            "Skipping line 83958: expected 2 fields, saw 5\n",
            "Skipping line 85295: expected 2 fields, saw 5\n",
            "Skipping line 88665: expected 2 fields, saw 5\n",
            "Skipping line 89198: expected 2 fields, saw 5\n",
            "Skipping line 92499: expected 2 fields, saw 5\n",
            "Skipping line 92751: expected 2 fields, saw 5\n",
            "Skipping line 93689: expected 2 fields, saw 5\n",
            "Skipping line 94776: expected 2 fields, saw 5\n",
            "Skipping line 97334: expected 2 fields, saw 5\n",
            "Skipping line 102316: expected 2 fields, saw 5\n",
            "Skipping line 103421: expected 2 fields, saw 5\n",
            "Skipping line 106872: expected 2 fields, saw 5\n",
            "Skipping line 109363: expected 2 fields, saw 5\n",
            "Skipping line 110117: expected 2 fields, saw 5\n",
            "Skipping line 110465: expected 2 fields, saw 5\n",
            "Skipping line 113843: expected 2 fields, saw 5\n",
            "Skipping line 115634: expected 2 fields, saw 5\n",
            "Skipping line 121518: expected 2 fields, saw 5\n",
            "Skipping line 123692: expected 2 fields, saw 5\n",
            "Skipping line 124708: expected 2 fields, saw 5\n",
            "Skipping line 129608: expected 2 fields, saw 5\n",
            "Skipping line 133176: expected 2 fields, saw 5\n",
            "Skipping line 135532: expected 2 fields, saw 5\n",
            "Skipping line 138042: expected 2 fields, saw 5\n",
            "Skipping line 139485: expected 2 fields, saw 5\n",
            "Skipping line 140401: expected 2 fields, saw 5\n",
            "Skipping line 144093: expected 2 fields, saw 5\n",
            "Skipping line 149850: expected 2 fields, saw 5\n",
            "Skipping line 151831: expected 2 fields, saw 5\n",
            "Skipping line 158014: expected 2 fields, saw 5\n",
            "\n"
          ]
        }
      ],
      "source": [
        "data = pd.read_csv(\"data.csv\", error_bad_lines=False)"
      ]
    },
    {
      "cell_type": "markdown",
      "metadata": {
        "id": "ZUnMjipiL0Gt"
      },
      "source": [
        "Bu veri setinde 'strength' sütununda;\n",
        "0 şifrenin güçsüz, 1 orta, 2 ise güçlü olduğu anlamına geliyor."
      ]
    },
    {
      "cell_type": "code",
      "execution_count": null,
      "metadata": {
        "colab": {
          "base_uri": "https://localhost:8080/",
          "height": 206
        },
        "id": "0wN_t3lhLnym",
        "outputId": "95f37c7f-5e4e-4a6d-8832-56de8e5ee544"
      },
      "outputs": [
        {
          "data": {
            "application/vnd.google.colaboratory.intrinsic+json": {
              "type": "dataframe",
              "variable_name": "data"
            },
            "text/html": [
              "\n",
              "  <div id=\"df-1a63881a-41d5-4b61-8d21-a503990b473f\" class=\"colab-df-container\">\n",
              "    <div>\n",
              "<style scoped>\n",
              "    .dataframe tbody tr th:only-of-type {\n",
              "        vertical-align: middle;\n",
              "    }\n",
              "\n",
              "    .dataframe tbody tr th {\n",
              "        vertical-align: top;\n",
              "    }\n",
              "\n",
              "    .dataframe thead th {\n",
              "        text-align: right;\n",
              "    }\n",
              "</style>\n",
              "<table border=\"1\" class=\"dataframe\">\n",
              "  <thead>\n",
              "    <tr style=\"text-align: right;\">\n",
              "      <th></th>\n",
              "      <th>password</th>\n",
              "      <th>strength</th>\n",
              "    </tr>\n",
              "  </thead>\n",
              "  <tbody>\n",
              "    <tr>\n",
              "      <th>0</th>\n",
              "      <td>kzde5577</td>\n",
              "      <td>1</td>\n",
              "    </tr>\n",
              "    <tr>\n",
              "      <th>1</th>\n",
              "      <td>kino3434</td>\n",
              "      <td>1</td>\n",
              "    </tr>\n",
              "    <tr>\n",
              "      <th>2</th>\n",
              "      <td>visi7k1yr</td>\n",
              "      <td>1</td>\n",
              "    </tr>\n",
              "    <tr>\n",
              "      <th>3</th>\n",
              "      <td>megzy123</td>\n",
              "      <td>1</td>\n",
              "    </tr>\n",
              "    <tr>\n",
              "      <th>4</th>\n",
              "      <td>lamborghin1</td>\n",
              "      <td>1</td>\n",
              "    </tr>\n",
              "  </tbody>\n",
              "</table>\n",
              "</div>\n",
              "    <div class=\"colab-df-buttons\">\n",
              "\n",
              "  <div class=\"colab-df-container\">\n",
              "    <button class=\"colab-df-convert\" onclick=\"convertToInteractive('df-1a63881a-41d5-4b61-8d21-a503990b473f')\"\n",
              "            title=\"Convert this dataframe to an interactive table.\"\n",
              "            style=\"display:none;\">\n",
              "\n",
              "  <svg xmlns=\"http://www.w3.org/2000/svg\" height=\"24px\" viewBox=\"0 -960 960 960\">\n",
              "    <path d=\"M120-120v-720h720v720H120Zm60-500h600v-160H180v160Zm220 220h160v-160H400v160Zm0 220h160v-160H400v160ZM180-400h160v-160H180v160Zm440 0h160v-160H620v160ZM180-180h160v-160H180v160Zm440 0h160v-160H620v160Z\"/>\n",
              "  </svg>\n",
              "    </button>\n",
              "\n",
              "  <style>\n",
              "    .colab-df-container {\n",
              "      display:flex;\n",
              "      gap: 12px;\n",
              "    }\n",
              "\n",
              "    .colab-df-convert {\n",
              "      background-color: #E8F0FE;\n",
              "      border: none;\n",
              "      border-radius: 50%;\n",
              "      cursor: pointer;\n",
              "      display: none;\n",
              "      fill: #1967D2;\n",
              "      height: 32px;\n",
              "      padding: 0 0 0 0;\n",
              "      width: 32px;\n",
              "    }\n",
              "\n",
              "    .colab-df-convert:hover {\n",
              "      background-color: #E2EBFA;\n",
              "      box-shadow: 0px 1px 2px rgba(60, 64, 67, 0.3), 0px 1px 3px 1px rgba(60, 64, 67, 0.15);\n",
              "      fill: #174EA6;\n",
              "    }\n",
              "\n",
              "    .colab-df-buttons div {\n",
              "      margin-bottom: 4px;\n",
              "    }\n",
              "\n",
              "    [theme=dark] .colab-df-convert {\n",
              "      background-color: #3B4455;\n",
              "      fill: #D2E3FC;\n",
              "    }\n",
              "\n",
              "    [theme=dark] .colab-df-convert:hover {\n",
              "      background-color: #434B5C;\n",
              "      box-shadow: 0px 1px 3px 1px rgba(0, 0, 0, 0.15);\n",
              "      filter: drop-shadow(0px 1px 2px rgba(0, 0, 0, 0.3));\n",
              "      fill: #FFFFFF;\n",
              "    }\n",
              "  </style>\n",
              "\n",
              "    <script>\n",
              "      const buttonEl =\n",
              "        document.querySelector('#df-1a63881a-41d5-4b61-8d21-a503990b473f button.colab-df-convert');\n",
              "      buttonEl.style.display =\n",
              "        google.colab.kernel.accessAllowed ? 'block' : 'none';\n",
              "\n",
              "      async function convertToInteractive(key) {\n",
              "        const element = document.querySelector('#df-1a63881a-41d5-4b61-8d21-a503990b473f');\n",
              "        const dataTable =\n",
              "          await google.colab.kernel.invokeFunction('convertToInteractive',\n",
              "                                                    [key], {});\n",
              "        if (!dataTable) return;\n",
              "\n",
              "        const docLinkHtml = 'Like what you see? Visit the ' +\n",
              "          '<a target=\"_blank\" href=https://colab.research.google.com/notebooks/data_table.ipynb>data table notebook</a>'\n",
              "          + ' to learn more about interactive tables.';\n",
              "        element.innerHTML = '';\n",
              "        dataTable['output_type'] = 'display_data';\n",
              "        await google.colab.output.renderOutput(dataTable, element);\n",
              "        const docLink = document.createElement('div');\n",
              "        docLink.innerHTML = docLinkHtml;\n",
              "        element.appendChild(docLink);\n",
              "      }\n",
              "    </script>\n",
              "  </div>\n",
              "\n",
              "\n",
              "<div id=\"df-0793edca-c635-4e4d-a978-d8eb6a37309b\">\n",
              "  <button class=\"colab-df-quickchart\" onclick=\"quickchart('df-0793edca-c635-4e4d-a978-d8eb6a37309b')\"\n",
              "            title=\"Suggest charts\"\n",
              "            style=\"display:none;\">\n",
              "\n",
              "<svg xmlns=\"http://www.w3.org/2000/svg\" height=\"24px\"viewBox=\"0 0 24 24\"\n",
              "     width=\"24px\">\n",
              "    <g>\n",
              "        <path d=\"M19 3H5c-1.1 0-2 .9-2 2v14c0 1.1.9 2 2 2h14c1.1 0 2-.9 2-2V5c0-1.1-.9-2-2-2zM9 17H7v-7h2v7zm4 0h-2V7h2v10zm4 0h-2v-4h2v4z\"/>\n",
              "    </g>\n",
              "</svg>\n",
              "  </button>\n",
              "\n",
              "<style>\n",
              "  .colab-df-quickchart {\n",
              "      --bg-color: #E8F0FE;\n",
              "      --fill-color: #1967D2;\n",
              "      --hover-bg-color: #E2EBFA;\n",
              "      --hover-fill-color: #174EA6;\n",
              "      --disabled-fill-color: #AAA;\n",
              "      --disabled-bg-color: #DDD;\n",
              "  }\n",
              "\n",
              "  [theme=dark] .colab-df-quickchart {\n",
              "      --bg-color: #3B4455;\n",
              "      --fill-color: #D2E3FC;\n",
              "      --hover-bg-color: #434B5C;\n",
              "      --hover-fill-color: #FFFFFF;\n",
              "      --disabled-bg-color: #3B4455;\n",
              "      --disabled-fill-color: #666;\n",
              "  }\n",
              "\n",
              "  .colab-df-quickchart {\n",
              "    background-color: var(--bg-color);\n",
              "    border: none;\n",
              "    border-radius: 50%;\n",
              "    cursor: pointer;\n",
              "    display: none;\n",
              "    fill: var(--fill-color);\n",
              "    height: 32px;\n",
              "    padding: 0;\n",
              "    width: 32px;\n",
              "  }\n",
              "\n",
              "  .colab-df-quickchart:hover {\n",
              "    background-color: var(--hover-bg-color);\n",
              "    box-shadow: 0 1px 2px rgba(60, 64, 67, 0.3), 0 1px 3px 1px rgba(60, 64, 67, 0.15);\n",
              "    fill: var(--button-hover-fill-color);\n",
              "  }\n",
              "\n",
              "  .colab-df-quickchart-complete:disabled,\n",
              "  .colab-df-quickchart-complete:disabled:hover {\n",
              "    background-color: var(--disabled-bg-color);\n",
              "    fill: var(--disabled-fill-color);\n",
              "    box-shadow: none;\n",
              "  }\n",
              "\n",
              "  .colab-df-spinner {\n",
              "    border: 2px solid var(--fill-color);\n",
              "    border-color: transparent;\n",
              "    border-bottom-color: var(--fill-color);\n",
              "    animation:\n",
              "      spin 1s steps(1) infinite;\n",
              "  }\n",
              "\n",
              "  @keyframes spin {\n",
              "    0% {\n",
              "      border-color: transparent;\n",
              "      border-bottom-color: var(--fill-color);\n",
              "      border-left-color: var(--fill-color);\n",
              "    }\n",
              "    20% {\n",
              "      border-color: transparent;\n",
              "      border-left-color: var(--fill-color);\n",
              "      border-top-color: var(--fill-color);\n",
              "    }\n",
              "    30% {\n",
              "      border-color: transparent;\n",
              "      border-left-color: var(--fill-color);\n",
              "      border-top-color: var(--fill-color);\n",
              "      border-right-color: var(--fill-color);\n",
              "    }\n",
              "    40% {\n",
              "      border-color: transparent;\n",
              "      border-right-color: var(--fill-color);\n",
              "      border-top-color: var(--fill-color);\n",
              "    }\n",
              "    60% {\n",
              "      border-color: transparent;\n",
              "      border-right-color: var(--fill-color);\n",
              "    }\n",
              "    80% {\n",
              "      border-color: transparent;\n",
              "      border-right-color: var(--fill-color);\n",
              "      border-bottom-color: var(--fill-color);\n",
              "    }\n",
              "    90% {\n",
              "      border-color: transparent;\n",
              "      border-bottom-color: var(--fill-color);\n",
              "    }\n",
              "  }\n",
              "</style>\n",
              "\n",
              "  <script>\n",
              "    async function quickchart(key) {\n",
              "      const quickchartButtonEl =\n",
              "        document.querySelector('#' + key + ' button');\n",
              "      quickchartButtonEl.disabled = true;  // To prevent multiple clicks.\n",
              "      quickchartButtonEl.classList.add('colab-df-spinner');\n",
              "      try {\n",
              "        const charts = await google.colab.kernel.invokeFunction(\n",
              "            'suggestCharts', [key], {});\n",
              "      } catch (error) {\n",
              "        console.error('Error during call to suggestCharts:', error);\n",
              "      }\n",
              "      quickchartButtonEl.classList.remove('colab-df-spinner');\n",
              "      quickchartButtonEl.classList.add('colab-df-quickchart-complete');\n",
              "    }\n",
              "    (() => {\n",
              "      let quickchartButtonEl =\n",
              "        document.querySelector('#df-0793edca-c635-4e4d-a978-d8eb6a37309b button');\n",
              "      quickchartButtonEl.style.display =\n",
              "        google.colab.kernel.accessAllowed ? 'block' : 'none';\n",
              "    })();\n",
              "  </script>\n",
              "</div>\n",
              "\n",
              "    </div>\n",
              "  </div>\n"
            ],
            "text/plain": [
              "      password  strength\n",
              "0     kzde5577         1\n",
              "1     kino3434         1\n",
              "2    visi7k1yr         1\n",
              "3     megzy123         1\n",
              "4  lamborghin1         1"
            ]
          },
          "execution_count": 4,
          "metadata": {},
          "output_type": "execute_result"
        }
      ],
      "source": [
        "data.head()"
      ]
    },
    {
      "cell_type": "code",
      "execution_count": null,
      "metadata": {
        "id": "M_WMszZ9MPQO"
      },
      "outputs": [],
      "source": [
        "data = data.dropna()"
      ]
    },
    {
      "cell_type": "markdown",
      "metadata": {
        "id": "UNqD1WKrMkDH"
      },
      "source": [
        "İleride test edeceğimiz şifrelerin gücünü ölçmek ve etiketlemek için 0,1 ve 2 değerlerini karşılık gelen kategorik veri tipine çevirdik."
      ]
    },
    {
      "cell_type": "code",
      "execution_count": null,
      "metadata": {
        "id": "5F4fz4eHMTkw"
      },
      "outputs": [],
      "source": [
        "data[\"strength\"] = data[\"strength\"].map({0: \"Weak\",1: \"Medium\",2: \"Strong\"})"
      ]
    },
    {
      "cell_type": "markdown",
      "metadata": {
        "id": "F1Mhj95cNK3p"
      },
      "source": [
        "*data*.sample() ifadesi, DataFrame'den rastgele örneklemler almayı sağlıyor."
      ]
    },
    {
      "cell_type": "code",
      "execution_count": null,
      "metadata": {
        "colab": {
          "base_uri": "https://localhost:8080/",
          "height": 206
        },
        "id": "CzYsgyUDNFpr",
        "outputId": "fd2068d0-c1ed-4878-f52a-32743ba0c826"
      },
      "outputs": [
        {
          "data": {
            "application/vnd.google.colaboratory.intrinsic+json": {
              "summary": "{\n  \"name\": \"data\",\n  \"rows\": 5,\n  \"fields\": [\n    {\n      \"column\": \"password\",\n      \"properties\": {\n        \"dtype\": \"string\",\n        \"num_unique_values\": 5,\n        \"samples\": [\n          \"goose95\",\n          \"swati20\",\n          \"itivo259\"\n        ],\n        \"semantic_type\": \"\",\n        \"description\": \"\"\n      }\n    },\n    {\n      \"column\": \"strength\",\n      \"properties\": {\n        \"dtype\": \"category\",\n        \"num_unique_values\": 2,\n        \"samples\": [\n          \"Weak\",\n          \"Medium\"\n        ],\n        \"semantic_type\": \"\",\n        \"description\": \"\"\n      }\n    }\n  ]\n}",
              "type": "dataframe"
            },
            "text/html": [
              "\n",
              "  <div id=\"df-b9cea30d-4e42-48ae-aad3-a9920f8e226a\" class=\"colab-df-container\">\n",
              "    <div>\n",
              "<style scoped>\n",
              "    .dataframe tbody tr th:only-of-type {\n",
              "        vertical-align: middle;\n",
              "    }\n",
              "\n",
              "    .dataframe tbody tr th {\n",
              "        vertical-align: top;\n",
              "    }\n",
              "\n",
              "    .dataframe thead th {\n",
              "        text-align: right;\n",
              "    }\n",
              "</style>\n",
              "<table border=\"1\" class=\"dataframe\">\n",
              "  <thead>\n",
              "    <tr style=\"text-align: right;\">\n",
              "      <th></th>\n",
              "      <th>password</th>\n",
              "      <th>strength</th>\n",
              "    </tr>\n",
              "  </thead>\n",
              "  <tbody>\n",
              "    <tr>\n",
              "      <th>566271</th>\n",
              "      <td>vinoth123</td>\n",
              "      <td>Medium</td>\n",
              "    </tr>\n",
              "    <tr>\n",
              "      <th>310710</th>\n",
              "      <td>goose95</td>\n",
              "      <td>Weak</td>\n",
              "    </tr>\n",
              "    <tr>\n",
              "      <th>636774</th>\n",
              "      <td>itivo259</td>\n",
              "      <td>Medium</td>\n",
              "    </tr>\n",
              "    <tr>\n",
              "      <th>347528</th>\n",
              "      <td>baffi7</td>\n",
              "      <td>Weak</td>\n",
              "    </tr>\n",
              "    <tr>\n",
              "      <th>452361</th>\n",
              "      <td>swati20</td>\n",
              "      <td>Weak</td>\n",
              "    </tr>\n",
              "  </tbody>\n",
              "</table>\n",
              "</div>\n",
              "    <div class=\"colab-df-buttons\">\n",
              "\n",
              "  <div class=\"colab-df-container\">\n",
              "    <button class=\"colab-df-convert\" onclick=\"convertToInteractive('df-b9cea30d-4e42-48ae-aad3-a9920f8e226a')\"\n",
              "            title=\"Convert this dataframe to an interactive table.\"\n",
              "            style=\"display:none;\">\n",
              "\n",
              "  <svg xmlns=\"http://www.w3.org/2000/svg\" height=\"24px\" viewBox=\"0 -960 960 960\">\n",
              "    <path d=\"M120-120v-720h720v720H120Zm60-500h600v-160H180v160Zm220 220h160v-160H400v160Zm0 220h160v-160H400v160ZM180-400h160v-160H180v160Zm440 0h160v-160H620v160ZM180-180h160v-160H180v160Zm440 0h160v-160H620v160Z\"/>\n",
              "  </svg>\n",
              "    </button>\n",
              "\n",
              "  <style>\n",
              "    .colab-df-container {\n",
              "      display:flex;\n",
              "      gap: 12px;\n",
              "    }\n",
              "\n",
              "    .colab-df-convert {\n",
              "      background-color: #E8F0FE;\n",
              "      border: none;\n",
              "      border-radius: 50%;\n",
              "      cursor: pointer;\n",
              "      display: none;\n",
              "      fill: #1967D2;\n",
              "      height: 32px;\n",
              "      padding: 0 0 0 0;\n",
              "      width: 32px;\n",
              "    }\n",
              "\n",
              "    .colab-df-convert:hover {\n",
              "      background-color: #E2EBFA;\n",
              "      box-shadow: 0px 1px 2px rgba(60, 64, 67, 0.3), 0px 1px 3px 1px rgba(60, 64, 67, 0.15);\n",
              "      fill: #174EA6;\n",
              "    }\n",
              "\n",
              "    .colab-df-buttons div {\n",
              "      margin-bottom: 4px;\n",
              "    }\n",
              "\n",
              "    [theme=dark] .colab-df-convert {\n",
              "      background-color: #3B4455;\n",
              "      fill: #D2E3FC;\n",
              "    }\n",
              "\n",
              "    [theme=dark] .colab-df-convert:hover {\n",
              "      background-color: #434B5C;\n",
              "      box-shadow: 0px 1px 3px 1px rgba(0, 0, 0, 0.15);\n",
              "      filter: drop-shadow(0px 1px 2px rgba(0, 0, 0, 0.3));\n",
              "      fill: #FFFFFF;\n",
              "    }\n",
              "  </style>\n",
              "\n",
              "    <script>\n",
              "      const buttonEl =\n",
              "        document.querySelector('#df-b9cea30d-4e42-48ae-aad3-a9920f8e226a button.colab-df-convert');\n",
              "      buttonEl.style.display =\n",
              "        google.colab.kernel.accessAllowed ? 'block' : 'none';\n",
              "\n",
              "      async function convertToInteractive(key) {\n",
              "        const element = document.querySelector('#df-b9cea30d-4e42-48ae-aad3-a9920f8e226a');\n",
              "        const dataTable =\n",
              "          await google.colab.kernel.invokeFunction('convertToInteractive',\n",
              "                                                    [key], {});\n",
              "        if (!dataTable) return;\n",
              "\n",
              "        const docLinkHtml = 'Like what you see? Visit the ' +\n",
              "          '<a target=\"_blank\" href=https://colab.research.google.com/notebooks/data_table.ipynb>data table notebook</a>'\n",
              "          + ' to learn more about interactive tables.';\n",
              "        element.innerHTML = '';\n",
              "        dataTable['output_type'] = 'display_data';\n",
              "        await google.colab.output.renderOutput(dataTable, element);\n",
              "        const docLink = document.createElement('div');\n",
              "        docLink.innerHTML = docLinkHtml;\n",
              "        element.appendChild(docLink);\n",
              "      }\n",
              "    </script>\n",
              "  </div>\n",
              "\n",
              "\n",
              "<div id=\"df-1802782e-4634-42ae-aa8c-80d57dad50a4\">\n",
              "  <button class=\"colab-df-quickchart\" onclick=\"quickchart('df-1802782e-4634-42ae-aa8c-80d57dad50a4')\"\n",
              "            title=\"Suggest charts\"\n",
              "            style=\"display:none;\">\n",
              "\n",
              "<svg xmlns=\"http://www.w3.org/2000/svg\" height=\"24px\"viewBox=\"0 0 24 24\"\n",
              "     width=\"24px\">\n",
              "    <g>\n",
              "        <path d=\"M19 3H5c-1.1 0-2 .9-2 2v14c0 1.1.9 2 2 2h14c1.1 0 2-.9 2-2V5c0-1.1-.9-2-2-2zM9 17H7v-7h2v7zm4 0h-2V7h2v10zm4 0h-2v-4h2v4z\"/>\n",
              "    </g>\n",
              "</svg>\n",
              "  </button>\n",
              "\n",
              "<style>\n",
              "  .colab-df-quickchart {\n",
              "      --bg-color: #E8F0FE;\n",
              "      --fill-color: #1967D2;\n",
              "      --hover-bg-color: #E2EBFA;\n",
              "      --hover-fill-color: #174EA6;\n",
              "      --disabled-fill-color: #AAA;\n",
              "      --disabled-bg-color: #DDD;\n",
              "  }\n",
              "\n",
              "  [theme=dark] .colab-df-quickchart {\n",
              "      --bg-color: #3B4455;\n",
              "      --fill-color: #D2E3FC;\n",
              "      --hover-bg-color: #434B5C;\n",
              "      --hover-fill-color: #FFFFFF;\n",
              "      --disabled-bg-color: #3B4455;\n",
              "      --disabled-fill-color: #666;\n",
              "  }\n",
              "\n",
              "  .colab-df-quickchart {\n",
              "    background-color: var(--bg-color);\n",
              "    border: none;\n",
              "    border-radius: 50%;\n",
              "    cursor: pointer;\n",
              "    display: none;\n",
              "    fill: var(--fill-color);\n",
              "    height: 32px;\n",
              "    padding: 0;\n",
              "    width: 32px;\n",
              "  }\n",
              "\n",
              "  .colab-df-quickchart:hover {\n",
              "    background-color: var(--hover-bg-color);\n",
              "    box-shadow: 0 1px 2px rgba(60, 64, 67, 0.3), 0 1px 3px 1px rgba(60, 64, 67, 0.15);\n",
              "    fill: var(--button-hover-fill-color);\n",
              "  }\n",
              "\n",
              "  .colab-df-quickchart-complete:disabled,\n",
              "  .colab-df-quickchart-complete:disabled:hover {\n",
              "    background-color: var(--disabled-bg-color);\n",
              "    fill: var(--disabled-fill-color);\n",
              "    box-shadow: none;\n",
              "  }\n",
              "\n",
              "  .colab-df-spinner {\n",
              "    border: 2px solid var(--fill-color);\n",
              "    border-color: transparent;\n",
              "    border-bottom-color: var(--fill-color);\n",
              "    animation:\n",
              "      spin 1s steps(1) infinite;\n",
              "  }\n",
              "\n",
              "  @keyframes spin {\n",
              "    0% {\n",
              "      border-color: transparent;\n",
              "      border-bottom-color: var(--fill-color);\n",
              "      border-left-color: var(--fill-color);\n",
              "    }\n",
              "    20% {\n",
              "      border-color: transparent;\n",
              "      border-left-color: var(--fill-color);\n",
              "      border-top-color: var(--fill-color);\n",
              "    }\n",
              "    30% {\n",
              "      border-color: transparent;\n",
              "      border-left-color: var(--fill-color);\n",
              "      border-top-color: var(--fill-color);\n",
              "      border-right-color: var(--fill-color);\n",
              "    }\n",
              "    40% {\n",
              "      border-color: transparent;\n",
              "      border-right-color: var(--fill-color);\n",
              "      border-top-color: var(--fill-color);\n",
              "    }\n",
              "    60% {\n",
              "      border-color: transparent;\n",
              "      border-right-color: var(--fill-color);\n",
              "    }\n",
              "    80% {\n",
              "      border-color: transparent;\n",
              "      border-right-color: var(--fill-color);\n",
              "      border-bottom-color: var(--fill-color);\n",
              "    }\n",
              "    90% {\n",
              "      border-color: transparent;\n",
              "      border-bottom-color: var(--fill-color);\n",
              "    }\n",
              "  }\n",
              "</style>\n",
              "\n",
              "  <script>\n",
              "    async function quickchart(key) {\n",
              "      const quickchartButtonEl =\n",
              "        document.querySelector('#' + key + ' button');\n",
              "      quickchartButtonEl.disabled = true;  // To prevent multiple clicks.\n",
              "      quickchartButtonEl.classList.add('colab-df-spinner');\n",
              "      try {\n",
              "        const charts = await google.colab.kernel.invokeFunction(\n",
              "            'suggestCharts', [key], {});\n",
              "      } catch (error) {\n",
              "        console.error('Error during call to suggestCharts:', error);\n",
              "      }\n",
              "      quickchartButtonEl.classList.remove('colab-df-spinner');\n",
              "      quickchartButtonEl.classList.add('colab-df-quickchart-complete');\n",
              "    }\n",
              "    (() => {\n",
              "      let quickchartButtonEl =\n",
              "        document.querySelector('#df-1802782e-4634-42ae-aa8c-80d57dad50a4 button');\n",
              "      quickchartButtonEl.style.display =\n",
              "        google.colab.kernel.accessAllowed ? 'block' : 'none';\n",
              "    })();\n",
              "  </script>\n",
              "</div>\n",
              "\n",
              "    </div>\n",
              "  </div>\n"
            ],
            "text/plain": [
              "         password strength\n",
              "566271  vinoth123   Medium\n",
              "310710    goose95     Weak\n",
              "636774   itivo259   Medium\n",
              "347528     baffi7     Weak\n",
              "452361    swati20     Weak"
            ]
          },
          "execution_count": 7,
          "metadata": {},
          "output_type": "execute_result"
        }
      ],
      "source": [
        "data.sample(5)"
      ]
    },
    {
      "cell_type": "markdown",
      "source": [
        "Modeli eğitmeye geçmeden önce şifreleri tokenlaştırmamız gerekiyor. Modelin şifrenin gücünü tahmin etmek için rakam, harf ve sembollerin kombinasyonlarından öğrenmesine ihtiyacımız var.\n",
        "Aşağıdaki word fonksiyonu parametre olarak aldığı şifreyi karakterlerine ayırarak her bir karakteri character dizisine ekliyor. Böylece karakterlerin her birinin birbiri ile olan kombinasyonlarının şifrenin gücünü ne şekilde etkilediğini model görüş oluyor."
      ],
      "metadata": {
        "id": "2RYSEaX4lpQz"
      }
    },
    {
      "cell_type": "code",
      "execution_count": null,
      "metadata": {
        "id": "LakwOOd2OSuK"
      },
      "outputs": [],
      "source": [
        "def word(password):\n",
        "    character=[]\n",
        "    for i in password:\n",
        "        character.append(i)\n",
        "    return character"
      ]
    },
    {
      "cell_type": "markdown",
      "source": [
        "Bağımsız değişken, bir denklemin veya modelin sonucunu etkileyen değişkendir ve genellikle tahmin etmeye çalıştığımız değeri (bağımlı değişkeni) etkileyen faktördür. Bağımsız değişkenler, tahmin etmeye çalıştığımız sonucu açıklamak veya öngörmek için kullanılan verilerdir.\n",
        "\n",
        "Makine öğrenimi bağlamında, bağımsız değişkenler modelin girdileridir ve genellikle bu değişkenler kullanılarak bağımlı değişkenin (tahmin edilecek değerin) tahmini yapılır. Yani, bağımsız değişkenlerin belirli bir değeri verildiğinde, bağımlı değişkenin tahmin edilen değeri elde edilir."
      ],
      "metadata": {
        "id": "YWF-oeB5OwLx"
      }
    },
    {
      "cell_type": "markdown",
      "metadata": {
        "id": "cg3F6620OvTz"
      },
      "source": [
        "Şifreleri baz alarak güç tahminin yapacağımız için password sütununu x değişkenine, strength sütununu ise y değişkenine atıyoruz."
      ]
    },
    {
      "cell_type": "code",
      "execution_count": null,
      "metadata": {
        "id": "Y4IHYf2KOxSO"
      },
      "outputs": [],
      "source": [
        "x = np.array(data[\"password\"])\n",
        "y = np.array(data[\"strength\"])"
      ]
    },
    {
      "cell_type": "markdown",
      "source": [
        "Sklearn kütüphanesindeki TfidfVectorizer, metin verilerini temsil etmek için sıklıkla kullanılan bir vektörleştirme aracıdır. Metin verilerini sayısal vektörlere dönüştürmek, makine öğrenimi algoritmalarının doğrudan işleyebileceği bir formata getirir.\n",
        "\n",
        "TfidfVectorizer özellikle sık kullanılan bir metin madenciliği ve makine öğrenimi aracıdır. İsmi \"Term Frequency-Inverse Document Frequency\" kısaltmasından gelir. Bu, metin verilerinin her bir teriminin önem derecesini sayısal olarak ifade eden bir istatistiksel ölçüdür.\n",
        "\n",
        "Term Frequency (TF): Bir belgedeki bir terimin ne kadar sık geçtiğini ifade eder. Daha fazla geçen terimler, genellikle belgenin içeriği hakkında daha fazla bilgi verir.\n",
        "\n",
        "Inverse Document Frequency (IDF): Bir terimin ne kadar yaygın veya nadir olduğunu ölçer. Eğer bir terim nadirse, yani diğer belgelerde pek geçmiyorsa, bu terimin daha fazla ağırlığı olur. Bu şekilde, nadir terimler daha belirgin olur.\n",
        "\n",
        "TF-IDF, bir terimin bir belgedeki görülme sıklığını (TF) belirlerken, aynı terimin tüm belgelerdeki genel yaygınlığını (IDF) göz önünde bulundurarak bir terimin belgedeki önemini belirler. Bu, nadir terimlere daha fazla ağırlık verirken, çok yaygın olanlara az ağırlık verir.\n",
        "TfidfVectorizer kullanıldığında, belgelerin metinlerini vektörlere dönüştürmek için kullanılır ve bu, makine öğrenimi modellerine girdi olarak verilebilir. Bu vektörler, metin verilerinin özelliklerini temsil eder ve çeşitli makine öğrenimi algoritmalarında kullanılabilir. TF-IDF, özellikle belge sınıflandırma, metin kümeleri arasındaki benzerlik hesaplama ve bilgi alaka derecelendirmesi gibi metin odaklı görevlerde yaygın olarak kullanılır."
      ],
      "metadata": {
        "id": "KE0pYvWbt4GW"
      }
    },
    {
      "cell_type": "code",
      "execution_count": null,
      "metadata": {
        "id": "Vg0A-uQKO3ig"
      },
      "outputs": [],
      "source": [
        "from sklearn.feature_extraction.text import TfidfVectorizer"
      ]
    },
    {
      "cell_type": "markdown",
      "source": [
        "TfidfVectorizer kullanırken tokenizer parametresi, metin verilerini vektörlere dönüştürürken kullanılacak olan belirli bir tokenleştirme işlevini belirler. Bu parametre, metinlerin nasıl parçalara ayrılacağını belirtmek için kullanılır. Genellikle, özel bir tokenleştirme işlevi belirtmek için tokenizer parametresini kullanılabilir. Biz burada kendi tokenlaştırma fonksiyonumuzu -word fonksiyonu- tanımladığımız için tokenizer parametresine onu veriyoruz."
      ],
      "metadata": {
        "id": "8Y-KQYY7uMkH"
      }
    },
    {
      "cell_type": "code",
      "execution_count": null,
      "metadata": {
        "id": "L0uVe1CkPEzh"
      },
      "outputs": [],
      "source": [
        "tdif = TfidfVectorizer(tokenizer=word)"
      ]
    },
    {
      "cell_type": "markdown",
      "source": [
        "Burada tdif.fit_transform(x) kodu, TfidfVectorizer'ı kullanarak belirli bir metin veri kümesini vektörlere dönüştürmek için kullanılır.\n",
        "\n",
        "fit_transform() yöntemi, önce belirtilen metin veri kümesini TfidfVectorizer'a uyum sağlamak için kullanılır (fit()), ardından bu veri kümesini vektörlere dönüştürmek için kullanılır (transform()).\n",
        "\n",
        "x genellikle bir liste veya dizide depolanan metin verilerini içerir. Her bir öğe bir belgeyi temsil eder.\n",
        "\n",
        "Bu kodun çalıştırılması sonucunda, metin verileri TF-IDF vektörlerine dönüştürülür ve x adlı değişkenin içeriği bu dönüştürülmüş vektörlerle güncelleniyor. Bu dönüştürülmüş vektörler, makine öğrenimi modellerine girdi olarak verilebilir. Bu, genellikle sınıflandırma, kümeleme veya diğer metin odaklı görevlerde kullanılır. Bu dönüştürme işlemi, metin verilerini sayısal bir forma dönüştürerek, makine öğrenimi modellerinin bu verileri anlayabilmesini sağlıyor."
      ],
      "metadata": {
        "id": "C2hqXqTruuXn"
      }
    },
    {
      "cell_type": "code",
      "execution_count": null,
      "metadata": {
        "colab": {
          "base_uri": "https://localhost:8080/"
        },
        "id": "Ovyg4qG5R4Nc",
        "outputId": "c122500a-f546-4733-9cf5-cdb4b47e7456"
      },
      "outputs": [
        {
          "output_type": "stream",
          "name": "stderr",
          "text": [
            "/usr/local/lib/python3.10/dist-packages/sklearn/feature_extraction/text.py:528: UserWarning: The parameter 'token_pattern' will not be used since 'tokenizer' is not None'\n",
            "  warnings.warn(\n"
          ]
        }
      ],
      "source": [
        "x = tdif.fit_transform(x)"
      ]
    },
    {
      "cell_type": "code",
      "execution_count": null,
      "metadata": {
        "id": "gkt6_afNRve4"
      },
      "outputs": [],
      "source": [
        "from sklearn.model_selection import train_test_split"
      ]
    },
    {
      "cell_type": "markdown",
      "metadata": {
        "id": "mfDwejt5SDGS"
      },
      "source": [
        " Verilerin eğitim ve test kümelerine bölünmesini sağlar. test_size parametresi, verilerin %5'inin test verisi olarak ayrılacağını belirtir. random_state, rastgele veri bölümleme işleminin yeniden üretilebilirliğini sağlar."
      ]
    },
    {
      "cell_type": "code",
      "execution_count": null,
      "metadata": {
        "id": "zfEBryRnRt57"
      },
      "outputs": [],
      "source": [
        "xtrain, xtest, ytrain, ytest = train_test_split(x, y,\n",
        "                                                test_size=0.05,\n",
        "                                                random_state=42)"
      ]
    },
    {
      "cell_type": "markdown",
      "metadata": {
        "id": "2nAO7NUkSLvE"
      },
      "source": [
        "Şimdi şifrenin gücünü tahmin etmek için bir sınıflandırma modelini oluşturacagız."
      ]
    },
    {
      "cell_type": "markdown",
      "metadata": {
        "id": "gny5E1ylScZW"
      },
      "source": [
        "RandomForestClassifier sınıfından bir model oluşturulur. Random Forest sınıflandırıcı, birçok karar ağacının bir araya gelmesiyle oluşturulan bir sınıflandırma algoritmasıdır."
      ]
    },
    {
      "cell_type": "markdown",
      "source": [
        "Random Forest algoritması, birçok avantajı nedeniyle bu tür bir problemin çözümünde tercih edilebilir:\n",
        "\n",
        "Yüksek Performans: Random Forest genellikle yüksek performans sergiler. Büyük veri setlerinde ve yüksek boyutlu veri özelliklerinde bile etkili bir şekilde çalışabilir.\n",
        "\n",
        "Overfitting'e Karşı Direnç: Diğer karmaşık modellere kıyasla Random Forest, overfitting'e karşı daha dirençlidir. Bu, modelin eğitim verilerine aşırı uyum sağlamayı engeller ve genelleme yeteneğini artırır.\n",
        "\n",
        "Feature Seçimi ve Önemi Belirleme: Random Forest, her ağaçta bir alt küme özelliklerin rastgele seçilmesi nedeniyle, veri setindeki en önemli özellikleri belirleme konusunda oldukça etkilidir. Bu, modelin daha iyi anlaşılmasını sağlar ve gereksiz özelliklerin çıkarılmasına yardımcı olabilir.\n",
        "\n",
        "Outlier'lara Karşı Dayanıklılık: Random Forest, outlier'ları işlemek konusunda oldukça iyi bir performans sergiler. Bu, gerçek dünya veri setlerindeki gürültüye veya anormalliklere karşı dirençli olmasını sağlar."
      ],
      "metadata": {
        "id": "hG1MyrQXSPR2"
      }
    },
    {
      "cell_type": "markdown",
      "source": [
        "* **Yüksek Doğruluk:** Random Forest, genellikle yüksek doğruluk sağlayan bir sınıflandırma algoritmasıdır.\n",
        "* **Genelleme Yeteneği:** Random Forest, eğitim verilerine aşırı uyum gösterme eğiliminde değildir ve genelleme yeteneği yüksektir.\n",
        "* **Özellik Önemliliği:** Random Forest, özelliklerin önemini ölçebilir ve bu bilgi, özellik seçiminde ve modelin anlaşılmasında yardımcı olabilir.\n",
        "* **Paralel İşleme:** Random Forest, paralel işleme için uygun bir algoritmadır ve büyük veri kümelerinde eğitim ve tahmin işlemlerini hızlandırabilir.\n",
        "* **Kararlılık:** Random Forest, eğitim verilerindeki küçük değişikliklere karşı kararlıdır ve aşırı uyum gösterme eğiliminde değildir.\n",
        "* **Veri Tipi Esnekliği:** Random Forest, hem sayısal hem de kategorik özellikleri işleyebilir ve veri ön işleme gereksinimleri nispeten azdır."
      ],
      "metadata": {
        "id": "3eny75AtSaRi"
      }
    },
    {
      "cell_type": "code",
      "execution_count": null,
      "metadata": {
        "id": "6qiVM47qSpw-"
      },
      "outputs": [],
      "source": [
        "from sklearn.ensemble import RandomForestClassifier"
      ]
    },
    {
      "cell_type": "markdown",
      "source": [
        "RandomForestClassifier'ını kullanabilmek için ondan model nesnesini üretiyoruz."
      ],
      "metadata": {
        "id": "Hzmwoa36wEiR"
      }
    },
    {
      "cell_type": "code",
      "execution_count": null,
      "metadata": {
        "id": "MdkK6AsjSbEa"
      },
      "outputs": [],
      "source": [
        "model = RandomForestClassifier()"
      ]
    },
    {
      "cell_type": "markdown",
      "metadata": {
        "id": "0XzauIwBSiuN"
      },
      "source": [
        "Oluşturulan model, eğitim veri kümesi (xtrain ve ytrain) üzerinde eğitilir. xtrain, özellik vektörlerini, ytrain ise bu özellik vektörlerine karşılık gelen hedef değişken değerlerini içeriyor."
      ]
    },
    {
      "cell_type": "code",
      "execution_count": null,
      "metadata": {
        "colab": {
          "base_uri": "https://localhost:8080/",
          "height": 75
        },
        "id": "olpPkz52SiLv",
        "outputId": "9dc30ecd-b233-4c96-ea35-a86ec40b995c"
      },
      "outputs": [
        {
          "output_type": "execute_result",
          "data": {
            "text/plain": [
              "RandomForestClassifier()"
            ],
            "text/html": [
              "<style>#sk-container-id-1 {color: black;background-color: white;}#sk-container-id-1 pre{padding: 0;}#sk-container-id-1 div.sk-toggleable {background-color: white;}#sk-container-id-1 label.sk-toggleable__label {cursor: pointer;display: block;width: 100%;margin-bottom: 0;padding: 0.3em;box-sizing: border-box;text-align: center;}#sk-container-id-1 label.sk-toggleable__label-arrow:before {content: \"▸\";float: left;margin-right: 0.25em;color: #696969;}#sk-container-id-1 label.sk-toggleable__label-arrow:hover:before {color: black;}#sk-container-id-1 div.sk-estimator:hover label.sk-toggleable__label-arrow:before {color: black;}#sk-container-id-1 div.sk-toggleable__content {max-height: 0;max-width: 0;overflow: hidden;text-align: left;background-color: #f0f8ff;}#sk-container-id-1 div.sk-toggleable__content pre {margin: 0.2em;color: black;border-radius: 0.25em;background-color: #f0f8ff;}#sk-container-id-1 input.sk-toggleable__control:checked~div.sk-toggleable__content {max-height: 200px;max-width: 100%;overflow: auto;}#sk-container-id-1 input.sk-toggleable__control:checked~label.sk-toggleable__label-arrow:before {content: \"▾\";}#sk-container-id-1 div.sk-estimator input.sk-toggleable__control:checked~label.sk-toggleable__label {background-color: #d4ebff;}#sk-container-id-1 div.sk-label input.sk-toggleable__control:checked~label.sk-toggleable__label {background-color: #d4ebff;}#sk-container-id-1 input.sk-hidden--visually {border: 0;clip: rect(1px 1px 1px 1px);clip: rect(1px, 1px, 1px, 1px);height: 1px;margin: -1px;overflow: hidden;padding: 0;position: absolute;width: 1px;}#sk-container-id-1 div.sk-estimator {font-family: monospace;background-color: #f0f8ff;border: 1px dotted black;border-radius: 0.25em;box-sizing: border-box;margin-bottom: 0.5em;}#sk-container-id-1 div.sk-estimator:hover {background-color: #d4ebff;}#sk-container-id-1 div.sk-parallel-item::after {content: \"\";width: 100%;border-bottom: 1px solid gray;flex-grow: 1;}#sk-container-id-1 div.sk-label:hover label.sk-toggleable__label {background-color: #d4ebff;}#sk-container-id-1 div.sk-serial::before {content: \"\";position: absolute;border-left: 1px solid gray;box-sizing: border-box;top: 0;bottom: 0;left: 50%;z-index: 0;}#sk-container-id-1 div.sk-serial {display: flex;flex-direction: column;align-items: center;background-color: white;padding-right: 0.2em;padding-left: 0.2em;position: relative;}#sk-container-id-1 div.sk-item {position: relative;z-index: 1;}#sk-container-id-1 div.sk-parallel {display: flex;align-items: stretch;justify-content: center;background-color: white;position: relative;}#sk-container-id-1 div.sk-item::before, #sk-container-id-1 div.sk-parallel-item::before {content: \"\";position: absolute;border-left: 1px solid gray;box-sizing: border-box;top: 0;bottom: 0;left: 50%;z-index: -1;}#sk-container-id-1 div.sk-parallel-item {display: flex;flex-direction: column;z-index: 1;position: relative;background-color: white;}#sk-container-id-1 div.sk-parallel-item:first-child::after {align-self: flex-end;width: 50%;}#sk-container-id-1 div.sk-parallel-item:last-child::after {align-self: flex-start;width: 50%;}#sk-container-id-1 div.sk-parallel-item:only-child::after {width: 0;}#sk-container-id-1 div.sk-dashed-wrapped {border: 1px dashed gray;margin: 0 0.4em 0.5em 0.4em;box-sizing: border-box;padding-bottom: 0.4em;background-color: white;}#sk-container-id-1 div.sk-label label {font-family: monospace;font-weight: bold;display: inline-block;line-height: 1.2em;}#sk-container-id-1 div.sk-label-container {text-align: center;}#sk-container-id-1 div.sk-container {/* jupyter's `normalize.less` sets `[hidden] { display: none; }` but bootstrap.min.css set `[hidden] { display: none !important; }` so we also need the `!important` here to be able to override the default hidden behavior on the sphinx rendered scikit-learn.org. See: https://github.com/scikit-learn/scikit-learn/issues/21755 */display: inline-block !important;position: relative;}#sk-container-id-1 div.sk-text-repr-fallback {display: none;}</style><div id=\"sk-container-id-1\" class=\"sk-top-container\"><div class=\"sk-text-repr-fallback\"><pre>RandomForestClassifier()</pre><b>In a Jupyter environment, please rerun this cell to show the HTML representation or trust the notebook. <br />On GitHub, the HTML representation is unable to render, please try loading this page with nbviewer.org.</b></div><div class=\"sk-container\" hidden><div class=\"sk-item\"><div class=\"sk-estimator sk-toggleable\"><input class=\"sk-toggleable__control sk-hidden--visually\" id=\"sk-estimator-id-1\" type=\"checkbox\" checked><label for=\"sk-estimator-id-1\" class=\"sk-toggleable__label sk-toggleable__label-arrow\">RandomForestClassifier</label><div class=\"sk-toggleable__content\"><pre>RandomForestClassifier()</pre></div></div></div></div></div>"
            ]
          },
          "metadata": {},
          "execution_count": 16
        }
      ],
      "source": [
        "model.fit(xtrain, ytrain)"
      ]
    },
    {
      "cell_type": "markdown",
      "metadata": {
        "id": "j3XLx0poTnHC"
      },
      "source": [
        " Model, test veri kümesi (xtest ve ytest) üzerinde değerlendirilir ve doğruluk puanı (accuracy score) ekrana yazdırılır. Doğruluk puanı, doğru tahmin edilen etiketlerin toplam sayısının, toplam örnek sayısına oranıdır. Bu, modelin test veri kümesindeki performansını ölçmek için kullanılır."
      ]
    },
    {
      "cell_type": "markdown",
      "source": [
        "Verilen bir accuracy değerinin iyi veya kötü olduğunu belirlemek, modelin başarısını tam olarak anlamak için yeterli değildir.\n",
        "Model başarısını daha iyi anlamak için diğer performans ölçütlerini (confusion matrix, precision, recall, F1 score gibi metrikler)de göz önünde bulundurmak lazım. Ayrıca, modelin hiperparametrelerinin nasıl ayarlandığı, veri setinin nasıl bölündüğü gibi faktörler de modelin gerçek performansını etkileyebilir."
      ],
      "metadata": {
        "id": "tXTCKZGsS0io"
      }
    },
    {
      "cell_type": "code",
      "execution_count": null,
      "metadata": {
        "id": "z6ua0b9RSLZZ",
        "colab": {
          "base_uri": "https://localhost:8080/"
        },
        "outputId": "9d3b3168-e3af-4bbf-daf5-2fa7704bc958"
      },
      "outputs": [
        {
          "output_type": "stream",
          "name": "stdout",
          "text": [
            "0.9490011167638664\n"
          ]
        }
      ],
      "source": [
        "print(model.score(xtest, ytest))"
      ]
    },
    {
      "cell_type": "markdown",
      "metadata": {
        "id": "7JHrqnBGUFEE"
      },
      "source": [
        "Bu, kullanıcının parolasını gizli bir şekilde girmesini sağlayan getpass modülünü içe aktarıyor."
      ]
    },
    {
      "cell_type": "code",
      "execution_count": null,
      "metadata": {
        "id": "u0Vc3h8MUCgB"
      },
      "outputs": [],
      "source": [
        "import getpass"
      ]
    },
    {
      "cell_type": "markdown",
      "metadata": {
        "id": "5nhCSgSvUKD1"
      },
      "source": [
        "Kullanıcıya bir parola girmesi istiyoruz. Kullanıcı bu parolayı girerken ekranda görüntülenmez."
      ]
    },
    {
      "cell_type": "code",
      "execution_count": null,
      "metadata": {
        "id": "sG7AB7R3UIKR",
        "colab": {
          "base_uri": "https://localhost:8080/"
        },
        "outputId": "45445b8d-9dde-42c7-bdea-ab1101e0df38"
      },
      "outputs": [
        {
          "name": "stdout",
          "output_type": "stream",
          "text": [
            "Enter Password: ··········\n"
          ]
        }
      ],
      "source": [
        "user = getpass.getpass(\"Enter Password: \")"
      ]
    },
    {
      "cell_type": "markdown",
      "metadata": {
        "id": "fmIGBDQxUNPS"
      },
      "source": [
        "Kullanıcının girdiği parola (user), daha önce oluşturulan TfidfVectorizer (tdif) kullanılarak vektör formuna dönüştürüyor. transform() metodu, parolayı vektör haline getirir. toarray() metodu, bu vektörü bir numpy dizisine dönüştürür."
      ]
    },
    {
      "cell_type": "code",
      "execution_count": null,
      "metadata": {
        "id": "8ywj6lh6UMbN"
      },
      "outputs": [],
      "source": [
        "data = tdif.transform([user]).toarray()"
      ]
    },
    {
      "cell_type": "markdown",
      "metadata": {
        "id": "mPtt37neUUT5"
      },
      "source": [
        "predict() metodu, verilen giriş vektörü üzerinde modelin tahmin yapmasını sağlar."
      ]
    },
    {
      "cell_type": "code",
      "execution_count": null,
      "metadata": {
        "id": "sx2hgwPRUSBT"
      },
      "outputs": [],
      "source": [
        "output = model.predict(data)"
      ]
    },
    {
      "cell_type": "markdown",
      "metadata": {
        "id": "1u_90FCVUbQU"
      },
      "source": [
        "Modelin tahmini sonucu ekrana yazdırıyoruz. Bu, modelin girdi parolasının tahmini gücünü ifade ediyor."
      ]
    },
    {
      "cell_type": "code",
      "execution_count": null,
      "metadata": {
        "id": "OJyta2TVUX_4",
        "colab": {
          "base_uri": "https://localhost:8080/"
        },
        "outputId": "11244fd1-7f8a-434b-ad6a-c2005e422e59"
      },
      "outputs": [
        {
          "output_type": "stream",
          "name": "stdout",
          "text": [
            "['Weak']\n"
          ]
        }
      ],
      "source": [
        "print(output)"
      ]
    }
  ],
  "metadata": {
    "colab": {
      "provenance": [],
      "authorship_tag": "ABX9TyO6r2cCeDP0t8j8kzcwCuHa",
      "include_colab_link": true
    },
    "kernelspec": {
      "display_name": "Python 3",
      "name": "python3"
    },
    "language_info": {
      "name": "python"
    }
  },
  "nbformat": 4,
  "nbformat_minor": 0
}